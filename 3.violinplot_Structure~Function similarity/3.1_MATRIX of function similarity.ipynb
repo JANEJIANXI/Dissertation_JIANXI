{
 "cells": [
  {
   "cell_type": "code",
   "execution_count": 40,
   "metadata": {},
   "outputs": [
    {
     "name": "stdout",
     "output_type": "stream",
     "text": [
      "0.0\n"
     ]
    }
   ],
   "source": [
    "def distance_similarity(str1,str2):\n",
    "    if str1 == str2:\n",
    "        return 1\n",
    "    n = len(str1)\n",
    "    similarity = 0\n",
    "    denominator = 2*n-str1.count('X') - str2.count('X')\n",
    "    for i in range(n):\n",
    "        if str1[i]==str2[i] and str1[i] in 'DIN':\n",
    "            similarity += 1\n",
    "    denominator -= similarity\n",
    "    if denominator == 0:\n",
    "        return 'NA'\n",
    "    else:\n",
    "        return similarity/denominator\n",
    "\n",
    "\n",
    "seq1='XXXXXXXXXDDD'\n",
    "seq2='XXXXXXXXXXXX'\n",
    "print(distance_similarity(seq1,seq2))"
   ]
  },
  {
   "cell_type": "code",
   "execution_count": 23,
   "metadata": {},
   "outputs": [
    {
     "name": "stdout",
     "output_type": "stream",
     "text": [
      "DDXXXDDDDDXD XDXXXDDDDDXD 0.6944444444444443\n"
     ]
    }
   ],
   "source": [
    "# 3rd test\n",
    "import numpy as np\n",
    "import pandas as pd\n",
    "# Hamming_Distance -- narrow\n",
    "\n",
    "def distance_similarity(str1,str2):\n",
    "    if str1.count('X')>11 or str2.count('X')>11:\n",
    "        return None\n",
    "    n = len(str1)\n",
    "    similarity = 0\n",
    "    for i in range(n):\n",
    "        similarity += score_M.loc[str1[i],str2[i]]\n",
    "    return similarity/12\n",
    "\n",
    "#score matrix\n",
    "score_M = pd.DataFrame({'X':{'X':1/3,'N':1/3,'D':0,'I':0},\n",
    "                        'N':{'X':1/3,'N':1,'D':0,'I':0},\n",
    "                        'D':{'X':0,'N':0,'D':1,'I':-1},\n",
    "                        'I':{'X':0,'N':0,'D':-1,'I':1}})\n",
    "\n",
    "datas = pd.read_excel(\"fuction_similarity.xlsx\")\n",
    "\n",
    "x = np.zeros((datas.shape[0],datas.shape[0]))\n",
    "\n",
    "# cutoff_dat = datas.loc[datas.loc[:,\"Sequence\"]!='XXXXXXXXXXXX',:]\n",
    "\n",
    "seqs = datas[\"Sequence\"]\n",
    "\n",
    "for i in range(len(seqs)):\n",
    "    for j in range(i,len(seqs)):\n",
    "        x[i][j] = distance_similarity(seqs[i],seqs[j])\n",
    "        j += 1\n",
    "    i += 1\n"
   ]
  },
  {
   "cell_type": "code",
   "execution_count": null,
   "metadata": {},
   "outputs": [],
   "source": [
    "# save the matrix\n",
    "\n",
    "df = pd.DataFrame(x)\n",
    "FSM = pd.ExcelWriter('functional_similarity_matrix_GS.xlsx')\n",
    "df.to_excel(FSM)\n",
    "FSM.save()"
   ]
  }
 ],
 "metadata": {
  "kernelspec": {
   "display_name": "Python 3",
   "language": "python",
   "name": "python3"
  },
  "language_info": {
   "codemirror_mode": {
    "name": "ipython",
    "version": 3
   },
   "file_extension": ".py",
   "mimetype": "text/x-python",
   "name": "python",
   "nbconvert_exporter": "python",
   "pygments_lexer": "ipython3",
   "version": "3.7.4"
  }
 },
 "nbformat": 4,
 "nbformat_minor": 2
}
