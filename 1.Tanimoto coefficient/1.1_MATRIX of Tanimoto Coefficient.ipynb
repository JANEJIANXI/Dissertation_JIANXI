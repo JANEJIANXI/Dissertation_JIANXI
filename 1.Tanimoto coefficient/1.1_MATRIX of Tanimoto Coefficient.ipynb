{
 "cells": [
  {
   "cell_type": "code",
   "execution_count": 9,
   "metadata": {},
   "outputs": [
    {
     "name": "stdout",
     "output_type": "stream",
     "text": [
      "similarity between mol1 and mol2: 0.33\n"
     ]
    }
   ],
   "source": [
    "# for test\n",
    "\n",
    "from rdkit import Chem\n",
    "from rdkit import DataStructs\n",
    "smis = [\n",
    "    'CO[C@H]1\\C=C\\O[C@@]2(C)OC3=C(C)C(O)=C4C(O)=C(NC(=O)\\C(C)=C/C=C/[C@H](C)[C@H](O)[C@@H](C)[C@@H](O)[C@@H](C)[C@H](OC(C)=O)[C@@H]1C)C1=C(N=C5C=C(C)C=CN15)C4=C3C2=O',\n",
    "    'CN(CCOC1=CC=C(CC2SC(=O)NC2=O)C=C1)C1=CC=CC=N1'\n",
    "]\n",
    "mols = []\n",
    "for smi in smis:\n",
    "    m = Chem.MolFromSmiles(smi)\n",
    "    mols.append(m)\n",
    "\n",
    "\n",
    "fps = [Chem.RDKFingerprint(x) for x in mols]\n",
    "sm01 = DataStructs.FingerprintSimilarity(fps[0], fps[1])\n",
    "\n",
    "print(\"similarity between mol1 and mol2: %.2f\" %\n",
    "      sm01)  # similarity between mol1 and mol2: 0.93"
   ]
  },
  {
   "cell_type": "code",
   "execution_count": 1,
   "metadata": {},
   "outputs": [
    {
     "name": "stdout",
     "output_type": "stream",
     "text": [
      "[[1.         0.04365079 0.04779412 ... 0.08237232 0.08558559 0.08643933]\n",
      " [0.04365079 1.         0.84172662 ... 0.08438819 0.20277296 0.09558824]\n",
      " [0.04779412 0.84172662 1.         ... 0.09189641 0.20336134 0.10903173]\n",
      " ...\n",
      " [0.08237232 0.08438819 0.09189641 ... 1.         0.3071161  0.44096386]\n",
      " [0.08558559 0.20277296 0.20336134 ... 0.3071161  1.         0.30981818]\n",
      " [0.08643933 0.09558824 0.10903173 ... 0.44096386 0.30981818 1.        ]]\n"
     ]
    }
   ],
   "source": [
    "# generate matrix of tanimoto coefficient\n",
    "\n",
    "import numpy as np\n",
    "import pandas as pd\n",
    "from rdkit import Chem\n",
    "from rdkit import DataStructs\n",
    "\n",
    "datas = pd.read_excel(\"SMILES_test.xlsx\")\n",
    "\n",
    "x = np.zeros((datas.shape[0],datas.shape[0]))\n",
    "\n",
    "smis = datas[\"SMILES\"]\n",
    "\n",
    "mols = []\n",
    "for smi in smis:\n",
    "    m = Chem.MolFromSmiles(smi)\n",
    "    mols.append(m)\n",
    "\n",
    "fps = [Chem.RDKFingerprint(i) for i in mols]\n",
    "\n",
    "for i in range(len(fps)):\n",
    "    for j in range(len(fps)):\n",
    "        x[i][j] = DataStructs.FingerprintSimilarity(fps[i], fps[j])\n",
    "        j += 1\n",
    "    i += 1\n",
    "\n",
    "print(x)"
   ]
  },
  {
   "cell_type": "code",
   "execution_count": 6,
   "metadata": {},
   "outputs": [],
   "source": [
    "# save the matrix\n",
    "\n",
    "df = pd.DataFrame(x)\n",
    "SMIS = pd.ExcelWriter('my.xlsx')\n",
    "df.to_excel(SMIS)\n",
    "SMIS.save()"
   ]
  },
  {
   "cell_type": "code",
   "execution_count": 3,
   "metadata": {},
   "outputs": [
    {
     "ename": "ModuleNotFoundError",
     "evalue": "No module named 'scipy'",
     "output_type": "error",
     "traceback": [
      "\u001b[0;31m---------------------------------------------------------------------------\u001b[0m",
      "\u001b[0;31mModuleNotFoundError\u001b[0m                       Traceback (most recent call last)",
      "\u001b[0;32m<ipython-input-3-cbd2454f3453>\u001b[0m in \u001b[0;36m<module>\u001b[0;34m\u001b[0m\n\u001b[0;32m----> 1\u001b[0;31m \u001b[0;32mfrom\u001b[0m \u001b[0mscipy\u001b[0m\u001b[0;34m.\u001b[0m\u001b[0mcluster\u001b[0m \u001b[0;32mimport\u001b[0m \u001b[0mhierarchy\u001b[0m\u001b[0;34m\u001b[0m\u001b[0;34m\u001b[0m\u001b[0m\n\u001b[0m\u001b[1;32m      2\u001b[0m \u001b[0mlinked_array\u001b[0m \u001b[0;34m=\u001b[0m \u001b[0mhierarchy\u001b[0m\u001b[0;34m.\u001b[0m\u001b[0mward\u001b[0m\u001b[0;34m(\u001b[0m\u001b[0mx\u001b[0m\u001b[0;34m)\u001b[0m\u001b[0;34m\u001b[0m\u001b[0;34m\u001b[0m\u001b[0m\n\u001b[1;32m      3\u001b[0m \u001b[0mhierarchy\u001b[0m\u001b[0;34m.\u001b[0m\u001b[0mdendrogram\u001b[0m\u001b[0;34m(\u001b[0m\u001b[0mlinked_array\u001b[0m\u001b[0;34m)\u001b[0m\u001b[0;34m\u001b[0m\u001b[0;34m\u001b[0m\u001b[0m\n\u001b[1;32m      4\u001b[0m \u001b[0max\u001b[0m \u001b[0;34m=\u001b[0m \u001b[0mplt\u001b[0m\u001b[0;34m.\u001b[0m\u001b[0mgca\u001b[0m\u001b[0;34m(\u001b[0m\u001b[0;34m)\u001b[0m\u001b[0;34m\u001b[0m\u001b[0;34m\u001b[0m\u001b[0m\n\u001b[1;32m      5\u001b[0m \u001b[0mbounds\u001b[0m \u001b[0;34m=\u001b[0m \u001b[0max\u001b[0m\u001b[0;34m.\u001b[0m\u001b[0mget_xbound\u001b[0m\u001b[0;34m(\u001b[0m\u001b[0;34m)\u001b[0m\u001b[0;34m\u001b[0m\u001b[0;34m\u001b[0m\u001b[0m\n",
      "\u001b[0;31mModuleNotFoundError\u001b[0m: No module named 'scipy'"
     ]
    }
   ],
   "source": [
    "from scipy.cluster import hierarchy\n",
    "linked_array = hierarchy.ward(x)\n",
    "hierarchy.dendrogram(linked_array)\n",
    "ax = plt.gca()\n",
    "bounds = ax.get_xbound()\n",
    "ax.plot(bounds, [34.5,34.5], '--', c='gray')\n",
    "ax.plot(bounds, [55,55], '--', c='gray')\n",
    "ax.text(bounds[1], 55, ' 3 clusters', va='center')\n",
    "ax.text(bounds[1], 34.5, ' 6 clusters')\n",
    "plt.xlabel('Compounds', fontsize=12)\n",
    "plt.xticks([])\n",
    "plt.ylabel('Cluster distance', fontsize=12)\n",
    "plt.title('Dendrogram for Ward method', fontsize=14)"
   ]
  },
  {
   "cell_type": "code",
   "execution_count": 4,
   "metadata": {},
   "outputs": [
    {
     "ename": "ModuleNotFoundError",
     "evalue": "No module named 'scipy'",
     "output_type": "error",
     "traceback": [
      "\u001b[0;31m---------------------------------------------------------------------------\u001b[0m",
      "\u001b[0;31mModuleNotFoundError\u001b[0m                       Traceback (most recent call last)",
      "\u001b[0;32m<ipython-input-4-e0b2f4a5a2a3>\u001b[0m in \u001b[0;36m<module>\u001b[0;34m\u001b[0m\n\u001b[0;32m----> 1\u001b[0;31m \u001b[0;32mfrom\u001b[0m \u001b[0mscipy\u001b[0m\u001b[0;34m.\u001b[0m\u001b[0mcluster\u001b[0m \u001b[0;32mimport\u001b[0m \u001b[0mhierarchy\u001b[0m\u001b[0;34m\u001b[0m\u001b[0;34m\u001b[0m\u001b[0m\n\u001b[0m",
      "\u001b[0;31mModuleNotFoundError\u001b[0m: No module named 'scipy'"
     ]
    }
   ],
   "source": [
    "from scipy.cluster import hierarchy"
   ]
  },
  {
   "cell_type": "code",
   "execution_count": null,
   "metadata": {},
   "outputs": [],
   "source": []
  }
 ],
 "metadata": {
  "kernelspec": {
   "display_name": "Python 3",
   "language": "python",
   "name": "python3"
  },
  "language_info": {
   "codemirror_mode": {
    "name": "ipython",
    "version": 3
   },
   "file_extension": ".py",
   "mimetype": "text/x-python",
   "name": "python",
   "nbconvert_exporter": "python",
   "pygments_lexer": "ipython3",
   "version": "3.7.10"
  }
 },
 "nbformat": 4,
 "nbformat_minor": 2
}
